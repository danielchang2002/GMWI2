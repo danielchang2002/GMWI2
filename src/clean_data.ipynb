{
 "cells": [
  {
   "cell_type": "markdown",
   "id": "cc476abc",
   "metadata": {},
   "source": [
    "# Import libraries"
   ]
  },
  {
   "cell_type": "code",
   "execution_count": 1,
   "id": "e8e82d69",
   "metadata": {},
   "outputs": [],
   "source": [
    "import pandas as pd\n",
    "from config import RAW_DIR, CLEAN_DIR\n",
    "import numpy as np\n",
    "import os"
   ]
  },
  {
   "cell_type": "markdown",
   "id": "bc1359cc",
   "metadata": {},
   "source": [
    "# Extract features and labels from the raw training meta-analysis file"
   ]
  },
  {
   "cell_type": "code",
   "execution_count": 2,
   "id": "262f8e13",
   "metadata": {},
   "outputs": [
    {
     "name": "stderr",
     "output_type": "stream",
     "text": [
      "/Users/daniel/opt/anaconda3/envs/data/lib/python3.7/site-packages/IPython/core/interactiveshell.py:3444: DtypeWarning: Columns (10,11,12,14) have mixed types.Specify dtype option on import or set low_memory=False.\n",
      "  exec(code_obj, self.user_global_ns, self.user_ns)\n"
     ]
    },
    {
     "data": {
      "text/html": [
       "<div>\n",
       "<style scoped>\n",
       "    .dataframe tbody tr th:only-of-type {\n",
       "        vertical-align: middle;\n",
       "    }\n",
       "\n",
       "    .dataframe tbody tr th {\n",
       "        vertical-align: top;\n",
       "    }\n",
       "\n",
       "    .dataframe thead th {\n",
       "        text-align: right;\n",
       "    }\n",
       "</style>\n",
       "<table border=\"1\" class=\"dataframe\">\n",
       "  <thead>\n",
       "    <tr style=\"text-align: right;\">\n",
       "      <th></th>\n",
       "      <th></th>\n",
       "      <th>Author (year)</th>\n",
       "      <th>BoiProject ID</th>\n",
       "      <th>RunID</th>\n",
       "      <th>Sequencing Platform</th>\n",
       "      <th>Library layout (SE/PE)</th>\n",
       "      <th>Sample origin? (e.g., stool, mucosa)</th>\n",
       "      <th>Disease status</th>\n",
       "      <th>Sample_ID</th>\n",
       "      <th>Subject Id (If available)</th>\n",
       "      <th>Age (Years)</th>\n",
       "      <th>Gender</th>\n",
       "      <th>Geographical Region or Population</th>\n",
       "      <th>BMI (kg/m²)</th>\n",
       "      <th>PHENOTYPE_Disease</th>\n",
       "      <th>PHENOTYPE:Healthy_Nonhealthy</th>\n",
       "      <th>UNKNOWN</th>\n",
       "      <th>k__Archaea</th>\n",
       "      <th>k__Archaea|p__Euryarchaeota</th>\n",
       "      <th>k__Archaea|p__Euryarchaeota|c__Methanobacteria</th>\n",
       "      <th>k__Archaea|p__Euryarchaeota|c__Methanobacteria|o__Methanobacteriales</th>\n",
       "    </tr>\n",
       "    <tr>\n",
       "      <th>Study_ID</th>\n",
       "      <th>Sample Accession</th>\n",
       "      <th></th>\n",
       "      <th></th>\n",
       "      <th></th>\n",
       "      <th></th>\n",
       "      <th></th>\n",
       "      <th></th>\n",
       "      <th></th>\n",
       "      <th></th>\n",
       "      <th></th>\n",
       "      <th></th>\n",
       "      <th></th>\n",
       "      <th></th>\n",
       "      <th></th>\n",
       "      <th></th>\n",
       "      <th></th>\n",
       "      <th></th>\n",
       "      <th></th>\n",
       "      <th></th>\n",
       "      <th></th>\n",
       "      <th></th>\n",
       "    </tr>\n",
       "  </thead>\n",
       "  <tbody>\n",
       "    <tr>\n",
       "      <th rowspan=\"5\" valign=\"top\">GMHI-23</th>\n",
       "      <th>SAMEA3879547</th>\n",
       "      <td>Vogtmann (2016)</td>\n",
       "      <td>PRJEB12449</td>\n",
       "      <td>ERR1293689</td>\n",
       "      <td>Illumina HiSeq 2000</td>\n",
       "      <td>PAIRED</td>\n",
       "      <td>stool</td>\n",
       "      <td>Control</td>\n",
       "      <td>MMRS84159866ST</td>\n",
       "      <td>MMRS84159866ST</td>\n",
       "      <td>67.0</td>\n",
       "      <td>Female</td>\n",
       "      <td>USA</td>\n",
       "      <td>18.63574</td>\n",
       "      <td>Healthy</td>\n",
       "      <td>Healthy</td>\n",
       "      <td>56.451568</td>\n",
       "      <td>0.861124</td>\n",
       "      <td>0.861124</td>\n",
       "      <td>0.861124</td>\n",
       "      <td>0.861124</td>\n",
       "    </tr>\n",
       "    <tr>\n",
       "      <th>SAMEA3879551</th>\n",
       "      <td>Vogtmann (2016)</td>\n",
       "      <td>PRJEB12449</td>\n",
       "      <td>ERR1293705</td>\n",
       "      <td>Illumina HiSeq 2000</td>\n",
       "      <td>PAIRED</td>\n",
       "      <td>stool</td>\n",
       "      <td>Control</td>\n",
       "      <td>MMRS25211151ST</td>\n",
       "      <td>MMRS25211151ST</td>\n",
       "      <td>60.0</td>\n",
       "      <td>Female</td>\n",
       "      <td>USA</td>\n",
       "      <td>20.466036</td>\n",
       "      <td>Healthy</td>\n",
       "      <td>Healthy</td>\n",
       "      <td>39.905873</td>\n",
       "      <td>0.000000</td>\n",
       "      <td>0.000000</td>\n",
       "      <td>0.000000</td>\n",
       "      <td>0.000000</td>\n",
       "    </tr>\n",
       "    <tr>\n",
       "      <th>SAMEA3879543</th>\n",
       "      <td>Vogtmann (2016)</td>\n",
       "      <td>PRJEB12449</td>\n",
       "      <td>ERR1293673</td>\n",
       "      <td>Illumina HiSeq 2000</td>\n",
       "      <td>PAIRED</td>\n",
       "      <td>stool</td>\n",
       "      <td>Control</td>\n",
       "      <td>MMRS32573774ST</td>\n",
       "      <td>MMRS32573774ST</td>\n",
       "      <td>82.0</td>\n",
       "      <td>Male</td>\n",
       "      <td>USA</td>\n",
       "      <td>20.524438</td>\n",
       "      <td>Healthy</td>\n",
       "      <td>Healthy</td>\n",
       "      <td>53.274915</td>\n",
       "      <td>0.151996</td>\n",
       "      <td>0.151996</td>\n",
       "      <td>0.151996</td>\n",
       "      <td>0.151996</td>\n",
       "    </tr>\n",
       "    <tr>\n",
       "      <th>SAMEA3879565</th>\n",
       "      <td>Vogtmann (2016)</td>\n",
       "      <td>PRJEB12449</td>\n",
       "      <td>ERR1293761</td>\n",
       "      <td>Illumina HiSeq 2000</td>\n",
       "      <td>PAIRED</td>\n",
       "      <td>stool</td>\n",
       "      <td>Control</td>\n",
       "      <td>MMRS20257302ST</td>\n",
       "      <td>MMRS20257302ST</td>\n",
       "      <td>62.0</td>\n",
       "      <td>Female</td>\n",
       "      <td>USA</td>\n",
       "      <td>20.665713</td>\n",
       "      <td>Healthy</td>\n",
       "      <td>Healthy</td>\n",
       "      <td>59.044005</td>\n",
       "      <td>0.362985</td>\n",
       "      <td>0.362985</td>\n",
       "      <td>0.362985</td>\n",
       "      <td>0.362985</td>\n",
       "    </tr>\n",
       "    <tr>\n",
       "      <th>SAMEA3879546</th>\n",
       "      <td>Vogtmann (2016)</td>\n",
       "      <td>PRJEB12449</td>\n",
       "      <td>ERR1293685</td>\n",
       "      <td>Illumina HiSeq 2000</td>\n",
       "      <td>PAIRED</td>\n",
       "      <td>stool</td>\n",
       "      <td>Control</td>\n",
       "      <td>MMRS86168210ST</td>\n",
       "      <td>MMRS86168210ST</td>\n",
       "      <td>79.0</td>\n",
       "      <td>Male</td>\n",
       "      <td>USA</td>\n",
       "      <td>21.284602</td>\n",
       "      <td>Healthy</td>\n",
       "      <td>Healthy</td>\n",
       "      <td>75.424715</td>\n",
       "      <td>0.001181</td>\n",
       "      <td>0.001181</td>\n",
       "      <td>0.001181</td>\n",
       "      <td>0.001181</td>\n",
       "    </tr>\n",
       "  </tbody>\n",
       "</table>\n",
       "</div>"
      ],
      "text/plain": [
       "                             Author (year) BoiProject ID       RunID  \\\n",
       "Study_ID Sample Accession                                              \n",
       "GMHI-23  SAMEA3879547      Vogtmann (2016)    PRJEB12449  ERR1293689   \n",
       "         SAMEA3879551      Vogtmann (2016)    PRJEB12449  ERR1293705   \n",
       "         SAMEA3879543      Vogtmann (2016)    PRJEB12449  ERR1293673   \n",
       "         SAMEA3879565      Vogtmann (2016)    PRJEB12449  ERR1293761   \n",
       "         SAMEA3879546      Vogtmann (2016)    PRJEB12449  ERR1293685   \n",
       "\n",
       "                           Sequencing Platform Library layout (SE/PE)  \\\n",
       "Study_ID Sample Accession                                               \n",
       "GMHI-23  SAMEA3879547      Illumina HiSeq 2000                 PAIRED   \n",
       "         SAMEA3879551      Illumina HiSeq 2000                 PAIRED   \n",
       "         SAMEA3879543      Illumina HiSeq 2000                 PAIRED   \n",
       "         SAMEA3879565      Illumina HiSeq 2000                 PAIRED   \n",
       "         SAMEA3879546      Illumina HiSeq 2000                 PAIRED   \n",
       "\n",
       "                          Sample origin? (e.g., stool, mucosa) Disease status  \\\n",
       "Study_ID Sample Accession                                                       \n",
       "GMHI-23  SAMEA3879547                                    stool        Control   \n",
       "         SAMEA3879551                                    stool        Control   \n",
       "         SAMEA3879543                                    stool        Control   \n",
       "         SAMEA3879565                                    stool        Control   \n",
       "         SAMEA3879546                                    stool        Control   \n",
       "\n",
       "                                Sample_ID Subject Id (If available)  \\\n",
       "Study_ID Sample Accession                                             \n",
       "GMHI-23  SAMEA3879547      MMRS84159866ST            MMRS84159866ST   \n",
       "         SAMEA3879551      MMRS25211151ST            MMRS25211151ST   \n",
       "         SAMEA3879543      MMRS32573774ST            MMRS32573774ST   \n",
       "         SAMEA3879565      MMRS20257302ST            MMRS20257302ST   \n",
       "         SAMEA3879546      MMRS86168210ST            MMRS86168210ST   \n",
       "\n",
       "                          Age (Years)  Gender  \\\n",
       "Study_ID Sample Accession                       \n",
       "GMHI-23  SAMEA3879547            67.0  Female   \n",
       "         SAMEA3879551            60.0  Female   \n",
       "         SAMEA3879543            82.0    Male   \n",
       "         SAMEA3879565            62.0  Female   \n",
       "         SAMEA3879546            79.0    Male   \n",
       "\n",
       "                          Geographical Region or Population BMI (kg/m²)  \\\n",
       "Study_ID Sample Accession                                                 \n",
       "GMHI-23  SAMEA3879547                                   USA    18.63574   \n",
       "         SAMEA3879551                                   USA   20.466036   \n",
       "         SAMEA3879543                                   USA   20.524438   \n",
       "         SAMEA3879565                                   USA   20.665713   \n",
       "         SAMEA3879546                                   USA   21.284602   \n",
       "\n",
       "                          PHENOTYPE_Disease PHENOTYPE:Healthy_Nonhealthy  \\\n",
       "Study_ID Sample Accession                                                  \n",
       "GMHI-23  SAMEA3879547               Healthy                      Healthy   \n",
       "         SAMEA3879551               Healthy                      Healthy   \n",
       "         SAMEA3879543               Healthy                      Healthy   \n",
       "         SAMEA3879565               Healthy                      Healthy   \n",
       "         SAMEA3879546               Healthy                      Healthy   \n",
       "\n",
       "                             UNKNOWN  k__Archaea  k__Archaea|p__Euryarchaeota  \\\n",
       "Study_ID Sample Accession                                                       \n",
       "GMHI-23  SAMEA3879547      56.451568    0.861124                     0.861124   \n",
       "         SAMEA3879551      39.905873    0.000000                     0.000000   \n",
       "         SAMEA3879543      53.274915    0.151996                     0.151996   \n",
       "         SAMEA3879565      59.044005    0.362985                     0.362985   \n",
       "         SAMEA3879546      75.424715    0.001181                     0.001181   \n",
       "\n",
       "                           k__Archaea|p__Euryarchaeota|c__Methanobacteria  \\\n",
       "Study_ID Sample Accession                                                   \n",
       "GMHI-23  SAMEA3879547                                            0.861124   \n",
       "         SAMEA3879551                                            0.000000   \n",
       "         SAMEA3879543                                            0.151996   \n",
       "         SAMEA3879565                                            0.362985   \n",
       "         SAMEA3879546                                            0.001181   \n",
       "\n",
       "                           k__Archaea|p__Euryarchaeota|c__Methanobacteria|o__Methanobacteriales  \n",
       "Study_ID Sample Accession                                                                        \n",
       "GMHI-23  SAMEA3879547                                               0.861124                     \n",
       "         SAMEA3879551                                               0.000000                     \n",
       "         SAMEA3879543                                               0.151996                     \n",
       "         SAMEA3879565                                               0.362985                     \n",
       "         SAMEA3879546                                               0.001181                     "
      ]
     },
     "execution_count": 2,
     "metadata": {},
     "output_type": "execute_result"
    }
   ],
   "source": [
    "# load up our training dataset\n",
    "raw_training = pd.read_csv(os.path.join(RAW_DIR, \"raw_training.csv\"), index_col=[0, 3])\n",
    "raw_training.iloc[:5, :20]"
   ]
  },
  {
   "cell_type": "code",
   "execution_count": 4,
   "id": "da2a1440",
   "metadata": {},
   "outputs": [
    {
     "data": {
      "text/plain": [
       "array(['Vogtmann (2016)', 'Yu (2015)', 'He (2017)', 'Thomas (2019)',\n",
       "       'Wirbel (2019)', 'Zhu (2018)', 'Franzosa (2018)', 'Feng (2015)',\n",
       "       'Obregon-Tito (2015)', 'Schirmer (2016)',\n",
       "       'HMP1 (Phase-I): Structure, function and diversity of the healthy human microbiome (HMP1-2012)',\n",
       "       'HMP1 (Phase-II): Strains, functions and dynamics in the expanded Human Microbiome Project',\n",
       "       'Zeevi (2015)', 'Nishijima (2016)', 'Jie (2017)', 'Li (2017)',\n",
       "       'Backhed (2015)', 'Le Chatelier (2013)', 'Liu (2016)',\n",
       "       'Qin (2014)', 'Qin (2012)', 'Karlsson (2013)', 'Nielsen (2014)',\n",
       "       'Dhakan (2019)', 'Wen (2017)', 'Wilson (2021)', 'Xie (2016)',\n",
       "       'Hansen (2018)', 'Weng (2019)', 'Lloyd-Price (2019)', 'Ye (2018)',\n",
       "       'Tett (2019)', 'Costea (2017)', 'Roager (2019)', 'Zhu (2021)',\n",
       "       'Hannigan (2018)', 'Wang (2021)', 'Yachida (2019)',\n",
       "       'De Filippis (2019)', 'Winglee (2017)', 'Rampelli (2020)',\n",
       "       'Mehta (2018)', 'Asnicar (2021)', 'Keohane (2020)',\n",
       "       'Lokmer (2019)', 'Pasolli (2019)', 'Yassour (2018)', 'Zhu (2020)',\n",
       "       'Sun (2021)', 'Jacobson (2021)', 'D’Souza (2021)', 'Smits (2017)',\n",
       "       'Rettedal (2021)', 'Matsukawa (2021)', 'Ang (2021)', 'Kim (2021)',\n",
       "       'Zhang (2015)', 'Qi (2019)', 'Wang (2020)', 'Schirmer (2018)',\n",
       "       'Zeller (2014)', 'Araos (2019)', 'Ananthakrishnan (2017)',\n",
       "       'Loomba (2017)', 'Routy (2018)', 'Hoyles (2018)', 'Meslier (2020)',\n",
       "       'Gupta (2020)', 'Davies (2020)', 'Gu (2017)'], dtype=object)"
      ]
     },
     "execution_count": 4,
     "metadata": {},
     "output_type": "execute_result"
    }
   ],
   "source": [
    "raw_training[\"Author (year)\"].unique()"
   ]
  },
  {
   "cell_type": "code",
   "execution_count": 27,
   "id": "70a4ae48",
   "metadata": {},
   "outputs": [
    {
     "name": "stdout",
     "output_type": "stream",
     "text": [
      "Start with 12532 samples and 70 studies\n"
     ]
    }
   ],
   "source": [
    "print(\"Start with\", raw_training.shape[0], \"samples and\", np.unique(raw_training.index.get_level_values(0)).shape[0], \"studies\")"
   ]
  },
  {
   "cell_type": "code",
   "execution_count": 28,
   "id": "fa0707e1",
   "metadata": {},
   "outputs": [],
   "source": [
    "# Select the taxonomic features\n",
    "taxonomic_features = raw_training.iloc[:, 15:]\n",
    "\n",
    "# Select the health status labels \n",
    "is_healthy = raw_training[[\"PHENOTYPE:Healthy_Nonhealthy\"]] == \"Healthy\"\n",
    "\n",
    "# Select the full phenotype labels\n",
    "phenotype = raw_training[[\"PHENOTYPE_Disease\"]]"
   ]
  },
  {
   "cell_type": "markdown",
   "id": "a3d68716",
   "metadata": {},
   "source": [
    "# Apply sample exclusion criteria"
   ]
  },
  {
   "cell_type": "code",
   "execution_count": 29,
   "id": "f2731f50",
   "metadata": {},
   "outputs": [],
   "source": [
    "non_illumina = [\n",
    "    \"454 GS FLX Titanium\",\n",
    "    \"Ion Torrent PGM\",\n",
    "    \"Ion Torrent Proton\",\n",
    "    \"BGISEQ-500\",\n",
    "]"
   ]
  },
  {
   "cell_type": "code",
   "execution_count": 30,
   "id": "3627b63c",
   "metadata": {},
   "outputs": [],
   "source": [
    "# Find the indices of samples we would like to remove\n",
    "\n",
    "remove = (\n",
    "    \n",
    "    # we don't need a biomarker for obesity/underweight\n",
    "    (phenotype == \"Underweight\").values.flatten() | \n",
    "    (phenotype == \"Overweight\").values.flatten() |\n",
    "    (phenotype == \"Obesity\").values.flatten() |\n",
    "    (phenotype == \"Obese\").values.flatten() |\n",
    "    \n",
    "    # to reduce batch effects, remove samples sequenced with non-illumina machines\n",
    "    raw_training[\"Sequencing Platform\"].isin(non_illumina).values.flatten() |\n",
    "    \n",
    "    # all of these studies have samples from subjects w/o a diagnosed disease but have an abonormal condition\n",
    "    (phenotype.index.get_level_values(0) == \"P4\") | # P4 treats the poop for extracting viral DNA\n",
    "    (phenotype.index.get_level_values(0) == \"P86\") | # Healthy at baseline but half develop T2D \n",
    "    (phenotype.index.get_level_values(0) == \"GMHI-19\") | # Outlier study\n",
    "    ((phenotype.index.get_level_values(0) == \"P48\") & (phenotype == \"Healthy\").values.flatten()) | # Alcohol or smoking\n",
    "    (phenotype.index.get_level_values(0) == \"P59\") | # Are all technically healthy, but half are in heavily urbanized areas\n",
    "    # and \"Microbes with higher relative abundance in Chinese urban samples have been associated with disease in other studies\"\n",
    "    (phenotype.index.get_level_values(0) == \"P63\") # Deals with semisupercentenarians, i.e., 105 to 109 years old\n",
    ")"
   ]
  },
  {
   "cell_type": "code",
   "execution_count": 31,
   "id": "e35445af",
   "metadata": {},
   "outputs": [],
   "source": [
    "# remove bad samples\n",
    "taxonomic_features = taxonomic_features.iloc[~remove, :]\n",
    "is_healthy = is_healthy.iloc[~remove, :]\n",
    "phenotype = phenotype.iloc[~remove, :]"
   ]
  },
  {
   "cell_type": "markdown",
   "id": "a082464a",
   "metadata": {},
   "source": [
    "## Remove samples w/ low read counts"
   ]
  },
  {
   "cell_type": "code",
   "execution_count": 32,
   "id": "f4047df4",
   "metadata": {},
   "outputs": [],
   "source": [
    "# Get samples with low read counts\n",
    "training_read_counts = pd.read_csv(os.path.join(RAW_DIR, \"training_read_counts.csv\"), index_col=[2]).iloc[:9045, :5].loc[taxonomic_features.index.get_level_values(1)]\n",
    "\n",
    "# make sure indices align\n",
    "assert((training_read_counts.index == phenotype.index.get_level_values(1)).mean() == 1)"
   ]
  },
  {
   "cell_type": "code",
   "execution_count": 33,
   "id": "e7f5ba04",
   "metadata": {},
   "outputs": [],
   "source": [
    "# remove low quality samples\n",
    "low_quality_index = (training_read_counts[\"Read_count\"] < 1000000).values\n",
    "taxonomic_features = taxonomic_features.iloc[~low_quality_index, :]\n",
    "is_healthy = is_healthy.iloc[~low_quality_index, :]\n",
    "phenotype = phenotype.iloc[~low_quality_index, :]"
   ]
  },
  {
   "cell_type": "code",
   "execution_count": 34,
   "id": "37b0a8ba",
   "metadata": {},
   "outputs": [
    {
     "name": "stdout",
     "output_type": "stream",
     "text": [
      "Our dataset has 8904 samples with 3201 unique taxnomic features\n",
      "Our dataset has 61 independent studies\n"
     ]
    }
   ],
   "source": [
    "print(f\"Our dataset has {taxonomic_features.shape[0]} samples with {taxonomic_features.shape[1]} unique taxnomic features\")\n",
    "print(f\"Our dataset has {len(np.unique(taxonomic_features.index.get_level_values(0)))} independent studies\")"
   ]
  },
  {
   "cell_type": "markdown",
   "id": "d98af91a",
   "metadata": {},
   "source": [
    "# Apply study exclusion criteria"
   ]
  },
  {
   "cell_type": "code",
   "execution_count": 35,
   "id": "9495a7e2",
   "metadata": {},
   "outputs": [],
   "source": [
    "# Find studies with >= 20 samples\n",
    "high_sample_studies = phenotype.groupby(level=0).count() >= 20\n",
    "high_sample_studies = high_sample_studies[high_sample_studies[\"PHENOTYPE_Disease\"]].index\n",
    "\n",
    "# Keep only theses studies\n",
    "taxonomic_features = taxonomic_features.loc[high_sample_studies]\n",
    "is_healthy = is_healthy.loc[high_sample_studies]\n",
    "phenotype = phenotype.loc[high_sample_studies]"
   ]
  },
  {
   "cell_type": "code",
   "execution_count": 36,
   "id": "200e0ec0",
   "metadata": {},
   "outputs": [],
   "source": [
    "# normalize relative abundances\n",
    "taxonomic_features = taxonomic_features.divide((100 - taxonomic_features[\"UNKNOWN\"]), axis=\"rows\")"
   ]
  },
  {
   "cell_type": "code",
   "execution_count": 37,
   "id": "24b2510f",
   "metadata": {},
   "outputs": [
    {
     "name": "stdout",
     "output_type": "stream",
     "text": [
      "Our dataset has 8869 samples with 3200 unique taxnomic features\n",
      "Our dataset has 57 independent studies\n"
     ]
    }
   ],
   "source": [
    "# we don't need unknown column anymore\n",
    "taxonomic_features = taxonomic_features.drop(labels=[\"UNKNOWN\"], axis=1)\n",
    "\n",
    "# Check how many samples we have finally\n",
    "print(f\"Our dataset has {taxonomic_features.shape[0]} samples with {taxonomic_features.shape[1]} unique taxnomic features\")\n",
    "print(f\"Our dataset has {len(np.unique(taxonomic_features.index.get_level_values(0)))} independent studies\")\n"
   ]
  },
  {
   "cell_type": "code",
   "execution_count": 38,
   "id": "b095fdbf",
   "metadata": {},
   "outputs": [
    {
     "data": {
      "text/plain": [
       "Study_ID  Sample Accession\n",
       "GMHI-10   SAMN03283239        6.998433\n",
       "          SAMN03283266        6.999368\n",
       "          SAMN03283281        6.774279\n",
       "          SAMN03283245        6.994639\n",
       "          SAMN03283294        6.997221\n",
       "                                ...   \n",
       "P98       SAMEA6104852        6.999441\n",
       "          SAMEA6104851        6.999896\n",
       "          SAMEA6104850        6.999830\n",
       "          SAMEA6104885        6.999716\n",
       "          SAMEA6104858        6.999882\n",
       "Length: 8869, dtype: float64"
      ]
     },
     "execution_count": 38,
     "metadata": {},
     "output_type": "execute_result"
    }
   ],
   "source": [
    "# there are 7 taxonomic ranks, each one should sum to 1, so sum of each sample should be 7 (w/ floating point error)\n",
    "taxonomic_features.sum(axis=1)"
   ]
  },
  {
   "cell_type": "markdown",
   "id": "2dfef038",
   "metadata": {},
   "source": [
    "# Standardize names for diseased phenotypes"
   ]
  },
  {
   "cell_type": "code",
   "execution_count": 39,
   "id": "2d2b86b7",
   "metadata": {},
   "outputs": [
    {
     "data": {
      "text/plain": [
       "array(['ACVD', 'Adenoma (MP)', 'Behcet’s disease', 'Breast Cancer', 'CD',\n",
       "       'CRC', 'Cancer', \"Crohn''s disease\", 'Crohns disease',\n",
       "       'End-stage renal disease (ESRD)', 'Graves’ disease', 'Healthy',\n",
       "       'Hypertension (HTN)', 'IGT', 'Large adenoma', 'Liver Cirrhosis',\n",
       "       'NAFLD', 'Pancreatic cancer', 'Rheumatoid Arthritis',\n",
       "       'Rheumatoid arthritis', 'Small adenoma', 'T2D',\n",
       "       'Ulcerative colitis', 'adenoma', 'advanced adenoma',\n",
       "       'ankylosing spondylitis', 'carcinoma', 'schizophrenia',\n",
       "       'ulcerative colitis'], dtype=object)"
      ]
     },
     "execution_count": 39,
     "metadata": {},
     "output_type": "execute_result"
    }
   ],
   "source": [
    "np.unique(phenotype)"
   ]
  },
  {
   "cell_type": "code",
   "execution_count": 40,
   "id": "240ab1f5",
   "metadata": {},
   "outputs": [],
   "source": [
    "dic = {\n",
    "    \"Adenoma (MP)\" : \"Colorectal adenoma\",\n",
    "    \"Large adenoma\" : \"Colorectal adenoma\",\n",
    "    \"Small adenoma\" : \"Colorectal adenoma\",\n",
    "    \"adenoma\" : \"Colorectal adenoma\",\n",
    "    \"advanced adenoma\" : \"Colorectal adenoma\",\n",
    "    \"carcinoma\" : \"Colorectal adenoma\",\n",
    "    \n",
    "    \"Cancer\" : \"Colorectal cancer\",\n",
    "    \"CRC\" : \"Colorectal cancer\",\n",
    "    \n",
    "    \"Crohn''s disease\" : \"Crohn's Disease\",\n",
    "    \"CD\" : \"Crohn's Disease\",\n",
    "    \"Crohns disease\" : \"Crohn's Disease\",\n",
    "    \n",
    "    \"Rheumatoid Arthritis\" : \"Rheumatoid arthritis\",\n",
    "    \n",
    "    \"IGT\" : \"Impaired glucose tolerance\",\n",
    "    \n",
    "    \"T2D\" : \"Type 2 diabetes\",\n",
    "    \n",
    "    \"schizophrenia\" : \"Schizophrenia\",\n",
    "    \n",
    "    \"ulcerative colitis\" : \"Ulcerative colitis\",\n",
    "    \n",
    "    \"ACVD\" : \"Atherosclerotic cardiovascular disease\",\n",
    "    \n",
    "    \"End-stage renal disease (ESRD)\" : \"End-stage renal disease\",\n",
    "    \n",
    "    \"Hypertension (HTN)\" : \"Hypertension\",\n",
    "    \n",
    "    \"ankylosing spondylitis\" : \"Ankylosing spondylitis\",\n",
    "    \n",
    "}\n",
    "\n",
    "phenotype = phenotype.replace({\"PHENOTYPE_Disease\" : dic}) "
   ]
  },
  {
   "cell_type": "code",
   "execution_count": 41,
   "id": "7b773b56",
   "metadata": {},
   "outputs": [
    {
     "data": {
      "text/html": [
       "<div>\n",
       "<style scoped>\n",
       "    .dataframe tbody tr th:only-of-type {\n",
       "        vertical-align: middle;\n",
       "    }\n",
       "\n",
       "    .dataframe tbody tr th {\n",
       "        vertical-align: top;\n",
       "    }\n",
       "\n",
       "    .dataframe thead th {\n",
       "        text-align: right;\n",
       "    }\n",
       "</style>\n",
       "<table border=\"1\" class=\"dataframe\">\n",
       "  <thead>\n",
       "    <tr style=\"text-align: right;\">\n",
       "      <th></th>\n",
       "      <th># of studies</th>\n",
       "      <th># of samples</th>\n",
       "    </tr>\n",
       "    <tr>\n",
       "      <th>PHENOTYPE_Disease</th>\n",
       "      <th></th>\n",
       "      <th></th>\n",
       "    </tr>\n",
       "  </thead>\n",
       "  <tbody>\n",
       "    <tr>\n",
       "      <th>Ankylosing spondylitis</th>\n",
       "      <td>1</td>\n",
       "      <td>96</td>\n",
       "    </tr>\n",
       "    <tr>\n",
       "      <th>Atherosclerotic cardiovascular disease</th>\n",
       "      <td>1</td>\n",
       "      <td>214</td>\n",
       "    </tr>\n",
       "    <tr>\n",
       "      <th>Behcet’s disease</th>\n",
       "      <td>1</td>\n",
       "      <td>24</td>\n",
       "    </tr>\n",
       "    <tr>\n",
       "      <th>Breast Cancer</th>\n",
       "      <td>1</td>\n",
       "      <td>62</td>\n",
       "    </tr>\n",
       "    <tr>\n",
       "      <th>Colorectal adenoma</th>\n",
       "      <td>4</td>\n",
       "      <td>229</td>\n",
       "    </tr>\n",
       "    <tr>\n",
       "      <th>Colorectal cancer</th>\n",
       "      <td>6</td>\n",
       "      <td>558</td>\n",
       "    </tr>\n",
       "    <tr>\n",
       "      <th>Crohn's Disease</th>\n",
       "      <td>7</td>\n",
       "      <td>320</td>\n",
       "    </tr>\n",
       "    <tr>\n",
       "      <th>End-stage renal disease</th>\n",
       "      <td>1</td>\n",
       "      <td>223</td>\n",
       "    </tr>\n",
       "    <tr>\n",
       "      <th>Graves’ disease</th>\n",
       "      <td>1</td>\n",
       "      <td>100</td>\n",
       "    </tr>\n",
       "    <tr>\n",
       "      <th>Healthy</th>\n",
       "      <td>51</td>\n",
       "      <td>5757</td>\n",
       "    </tr>\n",
       "    <tr>\n",
       "      <th>Hypertension</th>\n",
       "      <td>1</td>\n",
       "      <td>99</td>\n",
       "    </tr>\n",
       "    <tr>\n",
       "      <th>Impaired glucose tolerance</th>\n",
       "      <td>1</td>\n",
       "      <td>49</td>\n",
       "    </tr>\n",
       "    <tr>\n",
       "      <th>Liver Cirrhosis</th>\n",
       "      <td>1</td>\n",
       "      <td>153</td>\n",
       "    </tr>\n",
       "    <tr>\n",
       "      <th>NAFLD</th>\n",
       "      <td>1</td>\n",
       "      <td>86</td>\n",
       "    </tr>\n",
       "    <tr>\n",
       "      <th>Pancreatic cancer</th>\n",
       "      <td>1</td>\n",
       "      <td>11</td>\n",
       "    </tr>\n",
       "    <tr>\n",
       "      <th>Rheumatoid arthritis</th>\n",
       "      <td>2</td>\n",
       "      <td>151</td>\n",
       "    </tr>\n",
       "    <tr>\n",
       "      <th>Schizophrenia</th>\n",
       "      <td>1</td>\n",
       "      <td>90</td>\n",
       "    </tr>\n",
       "    <tr>\n",
       "      <th>Type 2 diabetes</th>\n",
       "      <td>4</td>\n",
       "      <td>378</td>\n",
       "    </tr>\n",
       "    <tr>\n",
       "      <th>Ulcerative colitis</th>\n",
       "      <td>6</td>\n",
       "      <td>269</td>\n",
       "    </tr>\n",
       "  </tbody>\n",
       "</table>\n",
       "</div>"
      ],
      "text/plain": [
       "                                        # of studies  # of samples\n",
       "PHENOTYPE_Disease                                                 \n",
       "Ankylosing spondylitis                             1            96\n",
       "Atherosclerotic cardiovascular disease             1           214\n",
       "Behcet’s disease                                   1            24\n",
       "Breast Cancer                                      1            62\n",
       "Colorectal adenoma                                 4           229\n",
       "Colorectal cancer                                  6           558\n",
       "Crohn's Disease                                    7           320\n",
       "End-stage renal disease                            1           223\n",
       "Graves’ disease                                    1           100\n",
       "Healthy                                           51          5757\n",
       "Hypertension                                       1            99\n",
       "Impaired glucose tolerance                         1            49\n",
       "Liver Cirrhosis                                    1           153\n",
       "NAFLD                                              1            86\n",
       "Pancreatic cancer                                  1            11\n",
       "Rheumatoid arthritis                               2           151\n",
       "Schizophrenia                                      1            90\n",
       "Type 2 diabetes                                    4           378\n",
       "Ulcerative colitis                                 6           269"
      ]
     },
     "execution_count": 41,
     "metadata": {},
     "output_type": "execute_result"
    }
   ],
   "source": [
    "# Look at how many studies and samples for each phenotype\n",
    "\n",
    "phenotype_info = phenotype.reset_index().groupby(\"PHENOTYPE_Disease\").agg(lambda x: x.nunique())\n",
    "phenotype_info.columns = [\"# of studies\", \"# of samples\"]\n",
    "phenotype_info"
   ]
  },
  {
   "cell_type": "markdown",
   "id": "e416c3b8",
   "metadata": {},
   "source": [
    "# Yay we are done, export stuff"
   ]
  },
  {
   "cell_type": "code",
   "execution_count": 42,
   "id": "e6f24469",
   "metadata": {},
   "outputs": [],
   "source": [
    "# export training set stuff\n",
    "taxonomic_features.to_csv(os.path.join(CLEAN_DIR, \"taxonomic_features.csv\"))\n",
    "is_healthy.to_csv(os.path.join(CLEAN_DIR, \"is_healthy.csv\"))\n",
    "phenotype.to_csv(os.path.join(CLEAN_DIR, \"phenotype.csv\"))"
   ]
  },
  {
   "cell_type": "markdown",
   "id": "d8046a14",
   "metadata": {},
   "source": [
    "# Clean validation data"
   ]
  },
  {
   "cell_type": "markdown",
   "id": "114b0f1f",
   "metadata": {},
   "source": [
    "## Clean first longitudinal data file"
   ]
  },
  {
   "cell_type": "code",
   "execution_count": 90,
   "id": "b80960b0",
   "metadata": {},
   "outputs": [],
   "source": [
    "raw_val1 = pd.read_csv(os.path.join(RAW_DIR, \"raw_validation.csv\"), index_col=[0, 3])"
   ]
  },
  {
   "cell_type": "code",
   "execution_count": 87,
   "id": "9f8bdba8",
   "metadata": {},
   "outputs": [
    {
     "name": "stderr",
     "output_type": "stream",
     "text": [
      "/Users/daniel/opt/anaconda3/envs/data/lib/python3.7/site-packages/pandas/core/frame.py:3645: PerformanceWarning: DataFrame is highly fragmented.  This is usually the result of calling `frame.insert` many times, which has poor performance.  Consider joining all columns at once using pd.concat(axis=1) instead.  To get a de-fragmented frame, use `newframe = frame.copy()`\n",
      "  self[col] = value\n"
     ]
    },
    {
     "data": {
      "text/plain": [
       "Study_ID  Sample Accession\n",
       "P65       SAMEA104062441      6.999077\n",
       "          SAMEA104062442      6.999857\n",
       "          SAMEA104062443      7.000002\n",
       "          SAMEA104062444      6.991888\n",
       "          SAMEA104062445      6.996988\n",
       "                                ...   \n",
       "P116      SAMN12478559        6.999367\n",
       "          SAMN12478560        6.999259\n",
       "          SAMN12478561        6.995951\n",
       "          SAMN12478591        6.999739\n",
       "          SAMN12478594        6.996203\n",
       "Length: 691, dtype: float64"
      ]
     },
     "execution_count": 87,
     "metadata": {},
     "output_type": "execute_result"
    }
   ],
   "source": [
    "# Select the taxonomic features\n",
    "taxonomic_features_val1 = raw_val1.iloc[:, 14:]\n",
    "\n",
    "# get meta\n",
    "meta_val1 = raw_val1.iloc[:, :14]\n",
    "\n",
    "# normalize and drop\n",
    "taxonomic_features_val1 = taxonomic_features_val1.divide((100 - taxonomic_features_val1[\"UNKNOWN\"]), axis=\"rows\")\n",
    "taxonomic_features_val1 = taxonomic_features_val1.drop(labels=[\"UNKNOWN\"], axis=1)\n",
    "\n",
    "# add dummy columns to align with training set\n",
    "taxonomic_features_val1[list(set(taxonomic_features.columns) - set(taxonomic_features_val1.columns))] = 0\n",
    "taxonomic_features_val1 = taxonomic_features_val1.copy()[taxonomic_features.columns]\n",
    "\n",
    "# there are 7 taxonomic ranks, each one should sum to 1, so sum of each sample should be 7 (w/ floating point error)\n",
    "taxonomic_features_val1.sum(axis=1)"
   ]
  },
  {
   "cell_type": "markdown",
   "id": "22f16eb3",
   "metadata": {},
   "source": [
    "## Clean second longitudinal data file"
   ]
  },
  {
   "cell_type": "code",
   "execution_count": 75,
   "id": "66220198",
   "metadata": {},
   "outputs": [
    {
     "name": "stderr",
     "output_type": "stream",
     "text": [
      "/Users/daniel/opt/anaconda3/envs/data/lib/python3.7/site-packages/IPython/core/interactiveshell.py:3444: DtypeWarning: Columns (7,11,12,13) have mixed types.Specify dtype option on import or set low_memory=False.\n",
      "  exec(code_obj, self.user_global_ns, self.user_ns)\n"
     ]
    }
   ],
   "source": [
    "raw_val2 = pd.read_csv(os.path.join(RAW_DIR, \"raw_validation2.csv\"), index_col=[0, 4])"
   ]
  },
  {
   "cell_type": "code",
   "execution_count": 76,
   "id": "73328981",
   "metadata": {},
   "outputs": [
    {
     "name": "stdout",
     "output_type": "stream",
     "text": [
      "P90 original # of samples: 428\n"
     ]
    }
   ],
   "source": [
    "# Select the taxonomic features\n",
    "taxonomic_features_val2 = raw_val2.iloc[:, 13:]\n",
    "\n",
    "# get meta\n",
    "meta_val2 = raw_val2.iloc[:, :13]\n",
    "\n",
    "\n",
    "print(\"P90 original # of samples:\", meta_val2.loc[\"P90\"].shape[0])"
   ]
  },
  {
   "cell_type": "markdown",
   "id": "6cc3056d",
   "metadata": {},
   "source": [
    "### Remove samples w/ low read counts"
   ]
  },
  {
   "cell_type": "code",
   "execution_count": 77,
   "id": "d83d3839",
   "metadata": {},
   "outputs": [],
   "source": [
    "# get low quality reads indices\n",
    "validation2_read_counts = pd.read_csv(os.path.join(RAW_DIR, \"validation2_read_counts.csv\"), index_col=[2]).iloc[:672, :5].loc[taxonomic_features_val2.index.get_level_values(1)]\n",
    "\n",
    "assert((validation2_read_counts.index == taxonomic_features_val2.index.get_level_values(1)).mean() == 1)"
   ]
  },
  {
   "cell_type": "code",
   "execution_count": 78,
   "id": "041dbd3e",
   "metadata": {},
   "outputs": [],
   "source": [
    "# remove low quality samples\n",
    "low_quality_index_val2 = (validation2_read_counts[\"Read_count\"] < 1000000).values\n",
    "# taxonomic_features_val2 = taxonomic_features_val2.iloc[~low_quality_index_val2, :]\n",
    "# meta_val2 = meta_val2.iloc[~low_quality_index_val2, :]"
   ]
  },
  {
   "cell_type": "code",
   "execution_count": 79,
   "id": "ddf87af7",
   "metadata": {},
   "outputs": [
    {
     "name": "stdout",
     "output_type": "stream",
     "text": [
      "P90 final # of samples: 428\n"
     ]
    }
   ],
   "source": [
    "print(\"P90 final # of samples:\", meta_val2.loc[\"P90\"].shape[0])"
   ]
  },
  {
   "cell_type": "code",
   "execution_count": 80,
   "id": "94069272",
   "metadata": {},
   "outputs": [
    {
     "name": "stderr",
     "output_type": "stream",
     "text": [
      "/Users/daniel/opt/anaconda3/envs/data/lib/python3.7/site-packages/pandas/core/frame.py:3645: PerformanceWarning: DataFrame is highly fragmented.  This is usually the result of calling `frame.insert` many times, which has poor performance.  Consider joining all columns at once using pd.concat(axis=1) instead.  To get a de-fragmented frame, use `newframe = frame.copy()`\n",
      "  self[col] = value\n"
     ]
    },
    {
     "data": {
      "text/plain": [
       "Study_ID  BioSample   \n",
       "P107      SAMEA6512889    6.999663\n",
       "          SAMEA6513017    6.996898\n",
       "          SAMEA6513054    6.998531\n",
       "          SAMEA6513021    6.994938\n",
       "          SAMEA6512856    6.992086\n",
       "                            ...   \n",
       "P90       SAMN16701308    6.999814\n",
       "          SAMN16701460    6.997841\n",
       "          SAMN16701459    6.846649\n",
       "          SAMN16701458    6.977201\n",
       "          SAMN16701457    6.966260\n",
       "Length: 672, dtype: float64"
      ]
     },
     "execution_count": 80,
     "metadata": {},
     "output_type": "execute_result"
    }
   ],
   "source": [
    "# normalize and drop\n",
    "taxonomic_features_val2 = taxonomic_features_val2.divide((100 - taxonomic_features_val2[\"UNKNOWN\"]), axis=\"rows\")\n",
    "taxonomic_features_val2 = taxonomic_features_val2.drop(labels=[\"UNKNOWN\"], axis=1)\n",
    "\n",
    "# add dummy columns to align with training set\n",
    "taxonomic_features_val2[list(set(taxonomic_features.columns) - set(taxonomic_features_val2.columns))] = 0\n",
    "taxonomic_features_val2 = taxonomic_features_val2.copy()[taxonomic_features.columns]\n",
    "\n",
    "# there are 7 taxonomic ranks, each one should sum to 1, so sum of each sample should be 7 (w/ floating point error)\n",
    "taxonomic_features_val2.sum(axis=1)"
   ]
  },
  {
   "cell_type": "code",
   "execution_count": 81,
   "id": "3f1098a5",
   "metadata": {},
   "outputs": [],
   "source": [
    "# Merge taxonomic features\n",
    "taxonomic_features_val = pd.concat([taxonomic_features_val1, taxonomic_features_val2])"
   ]
  },
  {
   "cell_type": "code",
   "execution_count": 82,
   "id": "36bf1ca8",
   "metadata": {},
   "outputs": [],
   "source": [
    "# Select columns of interest for metadata\n",
    "meta_val1_cropped = meta_val1[[\"Subject_ID\", \"Health status\", \"Time point\"]]\n",
    "meta_val2_cropped = meta_val2[[\"patient_ID\", \"Host_diet\", \"timepoint\"]]"
   ]
  },
  {
   "cell_type": "code",
   "execution_count": 83,
   "id": "53a83c73",
   "metadata": {},
   "outputs": [],
   "source": [
    "# Rename column/index names\n",
    "meta_val2_cropped.index = meta_val2_cropped.index.rename([\"Study_ID\", \"Sample Accession\"])\n",
    "meta_val1_cropped.columns = [\"Subject_ID\", \"health_status/host_diet\", \"timepoint\"]\n",
    "meta_val2_cropped.columns = [\"Subject_ID\", \"health_status/host_diet\", \"timepoint\"]"
   ]
  },
  {
   "cell_type": "code",
   "execution_count": 84,
   "id": "ade8f27e",
   "metadata": {},
   "outputs": [
    {
     "data": {
      "text/plain": [
       "array(['P106', 'P107', 'P116', 'P37', 'P43', 'P65', 'P89', 'P90'],\n",
       "      dtype=object)"
      ]
     },
     "metadata": {},
     "output_type": "display_data"
    },
    {
     "data": {
      "text/html": [
       "<div>\n",
       "<style scoped>\n",
       "    .dataframe tbody tr th:only-of-type {\n",
       "        vertical-align: middle;\n",
       "    }\n",
       "\n",
       "    .dataframe tbody tr th {\n",
       "        vertical-align: top;\n",
       "    }\n",
       "\n",
       "    .dataframe thead th {\n",
       "        text-align: right;\n",
       "    }\n",
       "</style>\n",
       "<table border=\"1\" class=\"dataframe\">\n",
       "  <thead>\n",
       "    <tr style=\"text-align: right;\">\n",
       "      <th></th>\n",
       "      <th></th>\n",
       "      <th>Subject_ID</th>\n",
       "      <th>health_status/host_diet</th>\n",
       "      <th>timepoint</th>\n",
       "    </tr>\n",
       "    <tr>\n",
       "      <th>Study_ID</th>\n",
       "      <th>Sample Accession</th>\n",
       "      <th></th>\n",
       "      <th></th>\n",
       "      <th></th>\n",
       "    </tr>\n",
       "  </thead>\n",
       "  <tbody>\n",
       "    <tr>\n",
       "      <th rowspan=\"5\" valign=\"top\">P65</th>\n",
       "      <th>SAMEA104062441</th>\n",
       "      <td>ERAS10</td>\n",
       "      <td>Healthy</td>\n",
       "      <td>D0</td>\n",
       "    </tr>\n",
       "    <tr>\n",
       "      <th>SAMEA104062442</th>\n",
       "      <td>ERAS10</td>\n",
       "      <td>Healthy</td>\n",
       "      <td>D180</td>\n",
       "    </tr>\n",
       "    <tr>\n",
       "      <th>SAMEA104062443</th>\n",
       "      <td>ERAS10</td>\n",
       "      <td>Healthy</td>\n",
       "      <td>D42</td>\n",
       "    </tr>\n",
       "    <tr>\n",
       "      <th>SAMEA104062444</th>\n",
       "      <td>ERAS10</td>\n",
       "      <td>Healthy</td>\n",
       "      <td>D8</td>\n",
       "    </tr>\n",
       "    <tr>\n",
       "      <th>SAMEA104062445</th>\n",
       "      <td>ERAS11</td>\n",
       "      <td>Healthy</td>\n",
       "      <td>D0</td>\n",
       "    </tr>\n",
       "    <tr>\n",
       "      <th>...</th>\n",
       "      <th>...</th>\n",
       "      <td>...</td>\n",
       "      <td>...</td>\n",
       "      <td>...</td>\n",
       "    </tr>\n",
       "    <tr>\n",
       "      <th rowspan=\"5\" valign=\"top\">P90</th>\n",
       "      <th>SAMN16701308</th>\n",
       "      <td>9003</td>\n",
       "      <td>EEN</td>\n",
       "      <td>3</td>\n",
       "    </tr>\n",
       "    <tr>\n",
       "      <th>SAMN16701460</th>\n",
       "      <td>9017</td>\n",
       "      <td>Vegan</td>\n",
       "      <td>1</td>\n",
       "    </tr>\n",
       "    <tr>\n",
       "      <th>SAMN16701459</th>\n",
       "      <td>9016</td>\n",
       "      <td>EEN</td>\n",
       "      <td>15</td>\n",
       "    </tr>\n",
       "    <tr>\n",
       "      <th>SAMN16701458</th>\n",
       "      <td>9016</td>\n",
       "      <td>EEN</td>\n",
       "      <td>14</td>\n",
       "    </tr>\n",
       "    <tr>\n",
       "      <th>SAMN16701457</th>\n",
       "      <td>9016</td>\n",
       "      <td>EEN</td>\n",
       "      <td>13</td>\n",
       "    </tr>\n",
       "  </tbody>\n",
       "</table>\n",
       "<p>1363 rows × 3 columns</p>\n",
       "</div>"
      ],
      "text/plain": [
       "                          Subject_ID health_status/host_diet timepoint\n",
       "Study_ID Sample Accession                                             \n",
       "P65      SAMEA104062441       ERAS10                 Healthy        D0\n",
       "         SAMEA104062442       ERAS10                 Healthy      D180\n",
       "         SAMEA104062443       ERAS10                 Healthy       D42\n",
       "         SAMEA104062444       ERAS10                 Healthy        D8\n",
       "         SAMEA104062445       ERAS11                 Healthy        D0\n",
       "...                              ...                     ...       ...\n",
       "P90      SAMN16701308           9003                     EEN         3\n",
       "         SAMN16701460           9017                   Vegan         1\n",
       "         SAMN16701459           9016                     EEN        15\n",
       "         SAMN16701458           9016                     EEN        14\n",
       "         SAMN16701457           9016                     EEN        13\n",
       "\n",
       "[1363 rows x 3 columns]"
      ]
     },
     "execution_count": 84,
     "metadata": {},
     "output_type": "execute_result"
    }
   ],
   "source": [
    "# Merge metadata \n",
    "metadata_val = pd.concat([meta_val1_cropped, meta_val2_cropped])\n",
    "display(np.unique(metadata_val.index.get_level_values(0)))\n",
    "metadata_val"
   ]
  },
  {
   "cell_type": "markdown",
   "id": "cabbbfd9",
   "metadata": {},
   "source": [
    "# Yay we are done, export stuff"
   ]
  },
  {
   "cell_type": "code",
   "execution_count": 85,
   "id": "86c1fa1d",
   "metadata": {},
   "outputs": [],
   "source": [
    "taxonomic_features_val.to_csv(os.path.join(CLEAN_DIR, \"taxonomic_features_val.csv\"))\n",
    "metadata_val.to_csv(os.path.join(CLEAN_DIR, \"metadata_val.csv\"))"
   ]
  },
  {
   "cell_type": "code",
   "execution_count": null,
   "id": "02c887e7",
   "metadata": {},
   "outputs": [],
   "source": []
  }
 ],
 "metadata": {
  "kernelspec": {
   "display_name": "Python 3 (ipykernel)",
   "language": "python",
   "name": "python3"
  },
  "language_info": {
   "codemirror_mode": {
    "name": "ipython",
    "version": 3
   },
   "file_extension": ".py",
   "mimetype": "text/x-python",
   "name": "python",
   "nbconvert_exporter": "python",
   "pygments_lexer": "ipython3",
   "version": "3.7.9"
  }
 },
 "nbformat": 4,
 "nbformat_minor": 5
}
